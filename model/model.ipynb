{
 "cells": [
  {
   "cell_type": "markdown",
   "id": "5796197d",
   "metadata": {},
   "source": [
    "## Simple CNN for road signs"
   ]
  },
  {
   "cell_type": "markdown",
   "id": "69a374ae",
   "metadata": {},
   "source": [
    "Imports"
   ]
  },
  {
   "cell_type": "code",
   "execution_count": 1,
   "id": "8f66b82e",
   "metadata": {},
   "outputs": [],
   "source": [
    "import torch\n",
    "import torch.nn as nn\n",
    "import torch.optim as optim\n",
    "import pandas as pd"
   ]
  },
  {
   "cell_type": "markdown",
   "id": "707d3de9",
   "metadata": {},
   "source": [
    "Used classes"
   ]
  },
  {
   "cell_type": "code",
   "execution_count": 2,
   "id": "6f86bbcb",
   "metadata": {},
   "outputs": [],
   "source": [
    "USED_CLASSES = [2, 13, 14, 15, 17, 27]\n",
    "classes_map = [\n",
    "    \"50 speed limit\",\n",
    "    \"give way\",\n",
    "    \"STOP\",\n",
    "    \"no vehicles\",\n",
    "    \"no entry\",\n",
    "    \"pedestrian crossing\"\n",
    "]"
   ]
  },
  {
   "cell_type": "markdown",
   "id": "d0b85ea4",
   "metadata": {},
   "source": [
    "Simple convolutional neural network class"
   ]
  },
  {
   "cell_type": "code",
   "execution_count": 3,
   "id": "487ccfec",
   "metadata": {},
   "outputs": [],
   "source": [
    "class SimpleCNN(nn.Module):\n",
    "    def __init__(self):\n",
    "        super().__init__()\n",
    "        self.conv_layers = nn.Sequential(\n",
    "            nn.Conv2d(3, 16, 3, padding=1),\n",
    "            nn.ReLU(),\n",
    "            nn.MaxPool2d(2, 2),\n",
    "            nn.Conv2d(16, 32, 3, padding=1),\n",
    "            nn.ReLU(),\n",
    "            nn.MaxPool2d(2, 2)\n",
    "        )\n",
    "        self.fc_layers = nn.Sequential(\n",
    "            nn.Flatten(),\n",
    "            nn.Linear(32 * 10 * 10, 128),\n",
    "            nn.ReLU(),\n",
    "            nn.Linear(128, len(USED_CLASSES))\n",
    "        )\n",
    "    \n",
    "    def forward(self, x):\n",
    "        x = self.conv_layers(x)\n",
    "        x = self.fc_layers(x)\n",
    "        return x"
   ]
  },
  {
   "cell_type": "markdown",
   "id": "dc7bde38",
   "metadata": {},
   "source": [
    "Load and preprocess training data"
   ]
  },
  {
   "cell_type": "code",
   "execution_count": 4,
   "id": "8f8cfc76",
   "metadata": {},
   "outputs": [],
   "source": [
    "from torch.utils.data import DataLoader, Subset\n",
    "from torchvision import transforms, datasets\n",
    "\n",
    "\n",
    "transform = transforms.Compose([\n",
    "    transforms.Resize((40, 40)),\n",
    "    transforms.ToTensor(),\n",
    "    transforms.Normalize([0.5] * 3, [0.5] * 3)\n",
    "])\n",
    "\n",
    "train_dataset = datasets.ImageFolder(\"images/train\", transform=transform)\n",
    "train_loader = DataLoader(train_dataset, batch_size=32, shuffle=True)"
   ]
  },
  {
   "cell_type": "markdown",
   "id": "6f398863",
   "metadata": {},
   "source": [
    "Create model, loss function and optimizer"
   ]
  },
  {
   "cell_type": "code",
   "execution_count": 5,
   "id": "5011f7b8",
   "metadata": {},
   "outputs": [],
   "source": [
    "device = torch.device(\"cuda\" if torch.cuda.is_available() else \"cpu\")\n",
    "model = SimpleCNN().to(device)\n",
    "criterion = nn.CrossEntropyLoss()\n",
    "optimizer = optim.Adam(model.parameters(), lr=0.001)"
   ]
  },
  {
   "cell_type": "markdown",
   "id": "9102ee1e",
   "metadata": {},
   "source": [
    "Training loop"
   ]
  },
  {
   "cell_type": "code",
   "execution_count": 6,
   "id": "c7fdfe5e",
   "metadata": {},
   "outputs": [
    {
     "name": "stdout",
     "output_type": "stream",
     "text": [
      "Epoch 1/20, loss: 79.6736\n",
      "Epoch 2/20, loss: 5.605\n",
      "Epoch 3/20, loss: 5.3557\n",
      "Epoch 4/20, loss: 1.3392\n",
      "Epoch 5/20, loss: 0.3869\n",
      "Epoch 6/20, loss: 0.9326\n",
      "Epoch 7/20, loss: 0.2555\n",
      "Epoch 8/20, loss: 0.1836\n",
      "Epoch 9/20, loss: 4.042\n",
      "Epoch 10/20, loss: 0.8307\n",
      "Epoch 11/20, loss: 0.3691\n",
      "Epoch 12/20, loss: 0.0728\n",
      "Epoch 13/20, loss: 0.027\n",
      "Epoch 14/20, loss: 0.024\n",
      "Epoch 15/20, loss: 0.0226\n",
      "Epoch 16/20, loss: 0.0143\n",
      "Epoch 17/20, loss: 0.0111\n",
      "Epoch 18/20, loss: 0.0092\n",
      "Epoch 19/20, loss: 0.0085\n",
      "Epoch 20/20, loss: 0.0069\n"
     ]
    }
   ],
   "source": [
    "num_epochs = 20\n",
    "\n",
    "for epoch in range(num_epochs):\n",
    "    model.train()\n",
    "    total_loss = 0\n",
    "\n",
    "    for images, labels in train_loader:\n",
    "        images = images.to(device)\n",
    "        labels = labels.to(device)\n",
    "\n",
    "        optimizer.zero_grad()\n",
    "        outputs = model(images)\n",
    "        loss = criterion(outputs, labels)\n",
    "        loss.backward()\n",
    "        optimizer.step()\n",
    "        total_loss += loss.item()\n",
    "    \n",
    "    print(f\"Epoch {epoch + 1}/{num_epochs}, loss: {round(total_loss, 4)}\")"
   ]
  },
  {
   "cell_type": "markdown",
   "id": "969bb442",
   "metadata": {},
   "source": [
    "Load test data"
   ]
  },
  {
   "cell_type": "code",
   "execution_count": 7,
   "id": "e2d8a6b3",
   "metadata": {},
   "outputs": [],
   "source": [
    "labels_df = pd.read_csv(\"images/GT-final_test.csv\", sep=\";\")\n",
    "labels_df.pop(\"Roi.X1\")\n",
    "labels_df.pop(\"Roi.Y1\")\n",
    "labels_df.pop(\"Roi.X2\")\n",
    "labels_df.pop(\"Roi.Y2\")\n",
    "\n",
    "class_to_idx = {}\n",
    "for i in range(len(USED_CLASSES)):\n",
    "    class_to_idx[USED_CLASSES[i]] = i\n",
    "\n",
    "labels_df[\"label\"] = labels_df[\"ClassId\"].map(class_to_idx)\n",
    "labels_df = labels_df.dropna(subset=[\"label\"])\n",
    "labels_df[\"label\"] = labels_df[\"label\"].astype(int)"
   ]
  },
  {
   "cell_type": "markdown",
   "id": "bce930c8",
   "metadata": {},
   "source": [
    "Prepare and preprocess test data"
   ]
  },
  {
   "cell_type": "code",
   "execution_count": 8,
   "id": "224d4f87",
   "metadata": {},
   "outputs": [],
   "source": [
    "from torch.utils.data import Dataset\n",
    "from PIL import Image\n",
    "import os\n",
    "\n",
    "\n",
    "class TestImageDataset(Dataset):\n",
    "    def __init__(self, df, img_dir, transform = None):\n",
    "        self.df = df.reset_index(drop=True)\n",
    "        self.img_dir = img_dir\n",
    "        self.transform = transform\n",
    "    \n",
    "    def __len__(self):\n",
    "        return len(self.df)\n",
    "    \n",
    "    def __getitem__(self, idx):\n",
    "        row = self.df.iloc[idx]\n",
    "        img_path = os.path.join(self.img_dir, row[\"Filename\"])\n",
    "        image = Image.open(img_path).convert(\"RGB\")\n",
    "\n",
    "        if self.transform:\n",
    "            image = self.transform(image)\n",
    "        \n",
    "        label = row[\"label\"]\n",
    "        return image, label\n",
    "\n",
    "\n",
    "test_dataset = TestImageDataset(labels_df, \"images/test\", transform=transform)\n",
    "test_loader = DataLoader(test_dataset, batch_size=32, shuffle=False)"
   ]
  },
  {
   "cell_type": "markdown",
   "id": "58d381ee",
   "metadata": {},
   "source": [
    "Evaluation loop"
   ]
  },
  {
   "cell_type": "code",
   "execution_count": 9,
   "id": "ad197cdc",
   "metadata": {},
   "outputs": [
    {
     "name": "stdout",
     "output_type": "stream",
     "text": [
      "Total accuracy: 99.49%\n"
     ]
    }
   ],
   "source": [
    "model.eval()\n",
    "correct = 0\n",
    "total = 0\n",
    "\n",
    "with torch.no_grad():\n",
    "    for images, labels in test_loader:\n",
    "        images = images.to(device)\n",
    "        labels = labels.to(device)\n",
    "\n",
    "        outputs = model(images)\n",
    "        _, predicted = torch.max(outputs.data, 1)\n",
    "        correct += (predicted == labels).sum().item()\n",
    "        total += labels.size(0)\n",
    "\n",
    "accuracy = correct / total\n",
    "print(f\"Total accuracy: {round(accuracy * 100, 2)}%\")"
   ]
  },
  {
   "cell_type": "markdown",
   "id": "6f6e1f1d",
   "metadata": {},
   "source": [
    "Own image test"
   ]
  },
  {
   "cell_type": "code",
   "execution_count": 16,
   "id": "357a170a",
   "metadata": {},
   "outputs": [
    {
     "name": "stdout",
     "output_type": "stream",
     "text": [
      "Prediction: pedestrian crossing\n"
     ]
    }
   ],
   "source": [
    "img_path = \"images/test2.jpg\"\n",
    "img = Image.open(img_path).convert(\"RGB\")\n",
    "img_tensor = transform(img).unsqueeze(0).to(device)\n",
    "\n",
    "model.eval()\n",
    "with torch.no_grad():\n",
    "    output = model(img_tensor)\n",
    "    _, predicted = torch.max(output, 1)\n",
    "\n",
    "print(f\"Prediction: {classes_map[predicted.item()]}\")"
   ]
  },
  {
   "cell_type": "markdown",
   "id": "f14b60f5",
   "metadata": {},
   "source": [
    "Export model to `pth` file"
   ]
  },
  {
   "cell_type": "code",
   "execution_count": 11,
   "id": "45dc3033",
   "metadata": {},
   "outputs": [],
   "source": [
    "torch.save(model, \"model.pth\")"
   ]
  }
 ],
 "metadata": {
  "kernelspec": {
   "display_name": "Python 3",
   "language": "python",
   "name": "python3"
  },
  "language_info": {
   "codemirror_mode": {
    "name": "ipython",
    "version": 3
   },
   "file_extension": ".py",
   "mimetype": "text/x-python",
   "name": "python",
   "nbconvert_exporter": "python",
   "pygments_lexer": "ipython3",
   "version": "3.12.4"
  }
 },
 "nbformat": 4,
 "nbformat_minor": 5
}
